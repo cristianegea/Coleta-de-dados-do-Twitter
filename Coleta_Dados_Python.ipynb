{
 "metadata": {
  "language_info": {
   "codemirror_mode": {
    "name": "ipython",
    "version": 3
   },
   "file_extension": ".py",
   "mimetype": "text/x-python",
   "name": "python",
   "nbconvert_exporter": "python",
   "pygments_lexer": "ipython3",
   "version": "3.7.9-final"
  },
  "orig_nbformat": 2,
  "kernelspec": {
   "name": "Python 3.7.9 64-bit",
   "display_name": "Python 3.7.9 64-bit",
   "metadata": {
    "interpreter": {
     "hash": "5a2e1c3d1bc2ab87cec91ef80daf8d9f45d326f95f70fe969251431fca29d43e"
    }
   }
  }
 },
 "nbformat": 4,
 "nbformat_minor": 2,
 "cells": [
  {
   "source": [
    "# Coleta de Dados do Twitter"
   ],
   "cell_type": "markdown",
   "metadata": {}
  },
  {
   "cell_type": "code",
   "execution_count": 50,
   "metadata": {},
   "outputs": [],
   "source": [
    "# Biblioteca\n",
    "import tweepy\n",
    "import sys"
   ]
  },
  {
   "cell_type": "code",
   "execution_count": 51,
   "metadata": {},
   "outputs": [],
   "source": [
    "# Autenticação\n",
    "consumer_key = ' '\n",
    "consumer_secret = ' '\n",
    "access_token = ' '\n",
    "access_token_secret = ' '"
   ]
  },
  {
   "cell_type": "code",
   "execution_count": 52,
   "metadata": {},
   "outputs": [],
   "source": [
    "auth = tweepy.OAuthHandler(consumer_key, consumer_secret)\n",
    "auth.set_access_token(access_token, access_token_secret)\n",
    "\n",
    "api = tweepy.API(auth)\n",
    "\n",
    "public_tweets = api.home_timeline()\n",
    "for tweet in public_tweets:\n",
    "    print(tweet.text)"
   ]
  },
  {
   "source": [
    "# Análise de Polaridade (Sentimento)"
   ],
   "cell_type": "markdown",
   "metadata": {}
  },
  {
   "cell_type": "code",
   "execution_count": 53,
   "metadata": {},
   "outputs": [],
   "source": [
    "# Biblioteca\n",
    "import tweepy"
   ]
  },
  {
   "cell_type": "code",
   "execution_count": 54,
   "metadata": {},
   "outputs": [],
   "source": [
    "# Autenticação\n",
    "consumer_key = ' '\n",
    "consumer_secret = ' '\n",
    "access_token = ' '\n",
    "access_token_secret = ' '"
   ]
  },
  {
   "cell_type": "code",
   "execution_count": 55,
   "metadata": {},
   "outputs": [],
   "source": [
    "# Criação do token de autenticação\n",
    "auth = tweepy.OAuthHandler(consumer_key, consumer_secret)\n",
    "auth.set_access_token(access_token, access_token_secret)\n",
    "\n",
    "token = tweepy.API(auth)"
   ]
  },
  {
   "source": [
    "## Busca por palavra-chave"
   ],
   "cell_type": "markdown",
   "metadata": {}
  },
  {
   "cell_type": "code",
   "execution_count": 56,
   "metadata": {},
   "outputs": [],
   "source": [
    "# Definição da palavra que será pesquisada no Twitter\n",
    "keyword = ('covid-19 or covid or corona or coronavírus')"
   ]
  },
  {
   "cell_type": "code",
   "execution_count": 57,
   "metadata": {},
   "outputs": [],
   "source": [
    "# Busca por palavras-chave\n",
    "tweets = token.search(q = keyword, count = 10, result_types = 'mixed')\n",
    "\n",
    "# por default, \"count = 100\". O valor máximo de count é 18000\n",
    "# \"Lang = pt\" => utilizado quando eu quiser somente tweets em português"
   ]
  },
  {
   "source": [
    "**Observação**\n",
    "\n",
    "Fazer busca por palavra chave, busca o text do tweet truncado.\n",
    "* tweets = token.search(q = keyword, lang = pt)\n",
    "\n",
    "Fazer busca por palavra chave, busca o text do tweet por inteiro.\n",
    "*  tweets = token.search(q = keyword, tweet_mode = 'extended')"
   ],
   "cell_type": "markdown",
   "metadata": {}
  },
  {
   "cell_type": "code",
   "execution_count": 58,
   "metadata": {
    "tags": []
   },
   "outputs": [
    {
     "output_type": "stream",
     "name": "stdout",
     "text": "Total de tweets coletados 10.\n"
    }
   ],
   "source": [
    "# Verificação da quantidade de tweets coletado\n",
    "print(\"Total de tweets coletados %s.\" % (len(tweets)))"
   ]
  },
  {
   "cell_type": "code",
   "execution_count": 59,
   "metadata": {
    "tags": []
   },
   "outputs": [
    {
     "output_type": "stream",
     "name": "stdout",
     "text": "Usuário: {'Queen2Lion'}\nTweet: {'RT @poll_today: Is it a pet peeve of yours / does it get on your nerves when someone says or writes the short form of a word?\\n\\nSuch as \"gua…'}\nUsuário: {'GWFS7777'}\nTweet: {\"RT @GeorgiaLogCabin: OR's youngest COVID-19 victim didn't have corona virus https://t.co/yyFmQBatwP\"}\nUsuário: {'Strangeangel14'}\nTweet: {\"RT @GeorgiaLogCabin: OR's youngest COVID-19 victim didn't have corona virus https://t.co/yyFmQBatwP\"}\nUsuário: {'bestillanlisten'}\nTweet: {\"RT @GeorgiaLogCabin: OR's youngest COVID-19 victim didn't have corona virus https://t.co/yyFmQBatwP\"}\nUsuário: {'pjmugs'}\nTweet: {\"RT @GeorgiaLogCabin: OR's youngest COVID-19 victim didn't have corona virus https://t.co/yyFmQBatwP\"}\nUsuário: {'DorisMoonlight'}\nTweet: {'RT @MayorOfLA: If you are age 65 or older or have a chronic underlying medical condition, and have symptoms such as cough, shortness of bre…'}\nUsuário: {'twig_harpoon'}\nTweet: {'RT @ReadyLA: Free COVID-19 testing to ALL LA residents! Visit one of the more than 100 sites located throughout LA County to get a free tes…'}\nUsuário: {'CoachDenele'}\nTweet: {'RT @MayorOfLA: If you think you have been in contact with someone who tested positive, free COVID-19 testing is available.\\n\\nMake an appoint…'}\nUsuário: {'chazdezmend'}\nTweet: {\"RT @GeorgiaLogCabin: OR's youngest COVID-19 victim didn't have corona virus https://t.co/yyFmQBatwP\"}\nUsuário: {'loureynolds1940'}\nTweet: {\"RT @GeorgiaLogCabin: OR's youngest COVID-19 victim didn't have corona virus https://t.co/yyFmQBatwP\"}\n"
    }
   ],
   "source": [
    "# Impreesão do nome do usuário (*screen_name*) e o texto do tweet\n",
    "for tweet in tweets:\n",
    "    print(\"Usuário: %s\" % {tweet.user.screen_name})\n",
    "    print(\"Tweet: %s\" % {tweet.text})"
   ]
  },
  {
   "source": [
    "## Análise de Polaridade"
   ],
   "cell_type": "markdown",
   "metadata": {}
  },
  {
   "source": [
    "Para fazer a análise de polaridade é utilizada a função *sentiment.polarity* do pacote *TextBlob*"
   ],
   "cell_type": "markdown",
   "metadata": {}
  },
  {
   "cell_type": "code",
   "execution_count": 60,
   "metadata": {},
   "outputs": [],
   "source": [
    "# Pacotes\n",
    "from textblob import TextBlob as tb\n",
    "import numpy as np"
   ]
  },
  {
   "cell_type": "code",
   "execution_count": 61,
   "metadata": {},
   "outputs": [],
   "source": [
    "# Variável que armazena as polaridades\n",
    "analysis = None"
   ]
  },
  {
   "cell_type": "code",
   "execution_count": 62,
   "metadata": {},
   "outputs": [],
   "source": [
    "# Lista vazia para armazenar scores\n",
    "tweets_score = []"
   ]
  },
  {
   "cell_type": "code",
   "execution_count": 63,
   "metadata": {
    "tags": []
   },
   "outputs": [
    {
     "output_type": "stream",
     "name": "stdout",
     "text": "** RT @poll_today: Is it a pet peeve of yours / does it get on your nerves when someone says or writes the short form of a word?\n\nSuch as \"gua…\n** RT @GeorgiaLogCabin: OR's youngest COVID-19 victim didn't have corona virus https://t.co/yyFmQBatwP\n** RT @GeorgiaLogCabin: OR's youngest COVID-19 victim didn't have corona virus https://t.co/yyFmQBatwP\n** RT @GeorgiaLogCabin: OR's youngest COVID-19 victim didn't have corona virus https://t.co/yyFmQBatwP\n** RT @GeorgiaLogCabin: OR's youngest COVID-19 victim didn't have corona virus https://t.co/yyFmQBatwP\n** RT @MayorOfLA: If you are age 65 or older or have a chronic underlying medical condition, and have symptoms such as cough, shortness of bre…\n** RT @ReadyLA: Free COVID-19 testing to ALL LA residents! Visit one of the more than 100 sites located throughout LA County to get a free tes…\n** RT @MayorOfLA: If you think you have been in contact with someone who tested positive, free COVID-19 testing is available.\n\nMake an appoint…\n** RT @GeorgiaLogCabin: OR's youngest COVID-19 victim didn't have corona virus https://t.co/yyFmQBatwP\n** RT @GeorgiaLogCabin: OR's youngest COVID-19 victim didn't have corona virus https://t.co/yyFmQBatwP\n"
    }
   ],
   "source": [
    "for tweet in tweets:\n",
    "    print('**', tweet.text)\n",
    "    analysis = tb(tweet.text)\n",
    "    polarity = analysis.sentiment.polarity\n",
    "    tweets_score.append(polarity)\n",
    "    # para cada vez que for calculada a polaridade a mesma será adicionada ao vetor de polaridade"
   ]
  },
  {
   "cell_type": "code",
   "execution_count": 64,
   "metadata": {
    "tags": []
   },
   "outputs": [
    {
     "output_type": "stream",
     "name": "stdout",
     "text": "Vetor de Polaridade: [0.0, -0.07500000000000001, -0.07500000000000001, -0.07500000000000001, -0.07500000000000001, 0.05555555555555555, 0.4666666666666666, 0.34242424242424246, -0.07500000000000001, -0.07500000000000001]\n"
    }
   ],
   "source": [
    "print('Vetor de Polaridade:', tweets_score)"
   ]
  },
  {
   "cell_type": "code",
   "execution_count": 65,
   "metadata": {
    "tags": []
   },
   "outputs": [
    {
     "output_type": "stream",
     "name": "stdout",
     "text": "Média de sentimento:0.04146464646464646\n"
    }
   ],
   "source": [
    "print('Média de sentimento:' + str(np.mean(tweets_score)))"
   ]
  },
  {
   "source": [
    "## Análise de Polaridade para tweets que não estão em inglês"
   ],
   "cell_type": "markdown",
   "metadata": {}
  },
  {
   "cell_type": "code",
   "execution_count": 66,
   "metadata": {},
   "outputs": [],
   "source": [
    "polarities = []\n",
    "\n",
    "for tweet in tweets:\n",
    "    analysis = tb(tweet.text)                                   # para o modo extendido é \"tweet.full_text\"\n",
    "    if analysis.detect_language() != 'en':\n",
    "        traducao = tb(str(analysis.translate(to = 'en')))       # tradução do tweet para o inglês\n",
    "        print('Texto traduzido %s:' % traducao)\n",
    "        polarity = traducao.sentiment.polarity\n",
    "    else:\n",
    "        polarity = analysis.sentiment.polarity\n",
    "        polarities.append(polarity)"
   ]
  },
  {
   "cell_type": "code",
   "execution_count": 67,
   "metadata": {
    "tags": []
   },
   "outputs": [
    {
     "output_type": "stream",
     "name": "stdout",
     "text": "Vetor de Polaridade: [0.0, -0.07500000000000001, -0.07500000000000001, -0.07500000000000001, -0.07500000000000001, 0.05555555555555555, 0.4666666666666666, 0.34242424242424246, -0.07500000000000001, -0.07500000000000001]\n"
    }
   ],
   "source": [
    "print('Vetor de Polaridade:', polarities)"
   ]
  },
  {
   "cell_type": "code",
   "execution_count": 68,
   "metadata": {
    "tags": []
   },
   "outputs": [
    {
     "output_type": "stream",
     "name": "stdout",
     "text": "Média de sentimento:0.04146464646464646\n"
    }
   ],
   "source": [
    "print('Média de sentimento:' + str(np.mean(polarities)))"
   ]
  },
  {
   "source": [
    "## Armazenamento dos tweets coletados"
   ],
   "cell_type": "markdown",
   "metadata": {}
  },
  {
   "cell_type": "code",
   "execution_count": 69,
   "metadata": {},
   "outputs": [],
   "source": [
    "# Biblioteca\n",
    "import json"
   ]
  },
  {
   "cell_type": "code",
   "execution_count": 70,
   "metadata": {},
   "outputs": [],
   "source": [
    "status = tweets[0]\n",
    "\n",
    "# Conversão para string\n",
    "json_str = json.dumps(status._json)\n",
    "\n",
    "# Deserialização de uma string para um objeto python\n",
    "parsed = json.loads(json_str)"
   ]
  },
  {
   "cell_type": "code",
   "execution_count": 71,
   "metadata": {},
   "outputs": [
    {
     "output_type": "execute_result",
     "data": {
      "text/plain": "tweepy.models.SearchResults"
     },
     "metadata": {},
     "execution_count": 71
    }
   ],
   "source": [
    "type(tweets)"
   ]
  },
  {
   "cell_type": "code",
   "execution_count": 72,
   "metadata": {},
   "outputs": [
    {
     "output_type": "execute_result",
     "data": {
      "text/plain": "str"
     },
     "metadata": {},
     "execution_count": 72
    }
   ],
   "source": [
    "type(json_str)"
   ]
  },
  {
   "cell_type": "code",
   "execution_count": 73,
   "metadata": {},
   "outputs": [
    {
     "output_type": "execute_result",
     "data": {
      "text/plain": "dict"
     },
     "metadata": {},
     "execution_count": 73
    }
   ],
   "source": [
    "type(parsed)"
   ]
  },
  {
   "cell_type": "code",
   "execution_count": 74,
   "metadata": {},
   "outputs": [
    {
     "output_type": "error",
     "ename": "SyntaxError",
     "evalue": "(unicode error) 'unicodeescape' codec can't decode bytes in position 2-3: truncated \\UXXXXXXXX escape (<ipython-input-74-962dbf4aa90e>, line 2)",
     "traceback": [
      "\u001b[1;36m  File \u001b[1;32m\"<ipython-input-74-962dbf4aa90e>\"\u001b[1;36m, line \u001b[1;32m2\u001b[0m\n\u001b[1;33m    datasetPatch = 'C:\\Users\\GEA\\Google Drive\\IGTI\\Ciência de Dados\\Módulo 2\\Coleta de Dados do Twitter'\u001b[0m\n\u001b[1;37m                  ^\u001b[0m\n\u001b[1;31mSyntaxError\u001b[0m\u001b[1;31m:\u001b[0m (unicode error) 'unicodeescape' codec can't decode bytes in position 2-3: truncated \\UXXXXXXXX escape\n"
     ]
    }
   ],
   "source": [
    "# Deserialização dos tweets e gravação dos dados no arquivo json\n",
    "datasetPatch = ' '\n",
    "\n",
    "with open(datasetPatch + '\\\\tweets_keywords.json', 'a', encoding = 'utf8') as filename:\n",
    "    status = tweet\n",
    "\n",
    "    # Conversão para uma string\n",
    "    json_str = json.dumps(status._json)\n",
    "\n",
    "    # Deserialização de uma string para um objeto python do tipo dict\n",
    "    parsed = json.loads(json_str)\n",
    "\n",
    "    # Armazenamento do tweet deserializado no arquivo\n",
    "    json.dump(parsed, ensure_ascii = FALSE, sort_keys = True, indent = 4, separators = (',', ':')) "
   ]
  }
 ]
}